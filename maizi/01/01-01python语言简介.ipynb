{
 "cells": [
  {
   "cell_type": "code",
   "execution_count": null,
   "metadata": {},
   "outputs": [],
   "source": [
    "# 8bit（位） = 1byte(字节)\n",
    "# 1024byte = 1KB\n",
    "# 1024KB = 1MB(照b)\n",
    "# 1024MB = =1GB\n",
    "# 1024GB = 1TB\n",
    "# 1024TB = 1 PB\n",
    "# 1PB = 1EB\n",
    "\n",
    "# 互联网时代（只能电脑上网）→移动互联网时代→大数据时代→人工智能时代（有数据，才能训练机器）\n",
    "# python作为人工智能的首先\n",
    "# Github 代码托管网站--别人可以看到并完善\n",
    "# 排名前10的AI模型：全部支持python\n",
    "# shell：脚本语言，编程本质是调用命令，而不是真正的语言；c语言-调用计算机接口\n",
    "# shell3.bat结尾，编辑→以管理员身份运行/shell3.bat/python hello.py\n",
    "\n"
   ]
  },
  {
   "cell_type": "code",
   "execution_count": null,
   "metadata": {},
   "outputs": [],
   "source": [
    "# python的特点：\n",
    "# 模块丰富\n",
    "# 为解释性语言，操作系统用编译型语言；\n",
    "# 作者为Guido van Rossum（龟权）\n",
    "# Life is short; you need python\n",
    "# python的解释器：使得运行效率慢，但是电脑可以进行弥补\n",
    "\n"
   ]
  },
  {
   "cell_type": "code",
   "execution_count": null,
   "metadata": {},
   "outputs": [],
   "source": [
    "# python的应用场景\n",
    "# web（ex：豆瓣网）\n",
    "# 操作系统的运维\n",
    "# 网络爬虫（爬虫框架Scrapy）\n",
    "# 科学计算（numpy，Scipy）"
   ]
  },
  {
   "cell_type": "code",
   "execution_count": null,
   "metadata": {},
   "outputs": [],
   "source": [
    "# pycharm\n",
    "# IDE:集成开发环境，集成了编辑器，解释器，代码提示，高亮显示和错误提示集一身的软件，ex：pycharm\n",
    "# 编辑器：Atom，Notepad 编写代码 + 解释器执行\n",
    "# console font 输出的字体大小\n",
    "# font：编辑的字体大小\n"
   ]
  }
 ],
 "metadata": {
  "kernelspec": {
   "display_name": "Python 3",
   "language": "python",
   "name": "python3"
  },
  "language_info": {
   "codemirror_mode": {
    "name": "ipython",
    "version": 3
   },
   "file_extension": ".py",
   "mimetype": "text/x-python",
   "name": "python",
   "nbconvert_exporter": "python",
   "pygments_lexer": "ipython3",
   "version": "3.7.7"
  }
 },
 "nbformat": 4,
 "nbformat_minor": 4
}
