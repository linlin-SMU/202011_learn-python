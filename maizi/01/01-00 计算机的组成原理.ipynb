{
 "cells": [
  {
   "cell_type": "code",
   "execution_count": null,
   "metadata": {},
   "outputs": [],
   "source": [
    "# 计算机：主要是用来高速计算的，逻辑判断，而且具有存储记忆的功能\n",
    "# 计算机的系统组成：\n",
    "# 1、硬件部分/系统\n",
    "# 1）主机部分：CPU,内存（随机存储器--random，只读存储--写死在主板上）\n",
    "# 2）外设部分：输入设备，输出部分，存储（硬盘--存储功能）\n",
    "# 总之，输入设备→外存储器：运算器&控制器&内储存器→输出设备，采取冯-诺依曼体系结构\n",
    "# 运算器：运算&逻辑判断\n",
    "# 控制器：分析程序的控制信息，并按着程序的要求进行控制，协调计算机各部分组件工作和外设访问。\n",
    "# 运算器和控制器-CPU\n",
    "# 存储器：为写死，保存功能和随机存储功能\n",
    "# 2、软件系统\n",
    "# 1）系统软件：操作系统，语言处理程序（编译器，即把用python写的程序转化为机器语言,可能是编译器或者解释器），数据库管理系统等\n",
    "# 2）应用软件\n",
    "# 操作系统为用户管理和控制计算机软硬件资源的系统软件，同时也是软件系统（提供notebook等）。\n",
    "# 应用软件（应用播放器）→系统软件（操作系统等）→硬件系统"
   ]
  },
  {
   "cell_type": "code",
   "execution_count": null,
   "metadata": {},
   "outputs": [],
   "source": [
    "# dir: cmd下面查看目录\n",
    "# ipconfig: 查看ip\n",
    "# systeminfo：查看系统信息\n",
    "# python hello.py：先生成hello.py的程序，再执行\n",
    "\n"
   ]
  },
  {
   "cell_type": "code",
   "execution_count": null,
   "metadata": {},
   "outputs": [],
   "source": [
    "# 计算机是如何运行程序的\n",
    "# 1）用户打开程序，程序开始执行\n",
    "# 2）操作系统将程序内容和相关数据送到计算机内存\n",
    "# 3）CPU根据程序内容从内存中读取指令\n",
    "# 4）CPU分析、处理指令，为处理下一条做准备\n",
    "# 5）重复\n",
    "# CPU：操作指令集\n"
   ]
  },
  {
   "cell_type": "code",
   "execution_count": null,
   "metadata": {},
   "outputs": [],
   "source": [
    "# 操作系统\n",
    "# unix 收费→Linux 免费开源（免费获取源代码）→\n",
    "# Ubuntu（更加友好的操作界面），RedHat（企业级，提供收费的技术支持），centOS(个人版的)\n",
    "# BTS(黑客使用)\n",
    "\n",
    "# windows（万物都是窗口）\n",
    "# python：跨平台\n"
   ]
  },
  {
   "cell_type": "code",
   "execution_count": null,
   "metadata": {},
   "outputs": [],
   "source": [
    "# 编译型语言：事先对代码进行检查再执行，所以运行效率高（不需要第二次编译），C\n",
    "# 解释性语言（执行程序，逐行执行）可通过CPU执行，python\n",
    "# 编程语言：人与计算机进行交流的语言-python/C\n",
    "# 编程语言来执行程序代码→语言处理程序向计算机发送指令"
   ]
  },
  {
   "cell_type": "code",
   "execution_count": null,
   "metadata": {},
   "outputs": [],
   "source": [
    "# 二进制：遇2进1\n",
    "# 001 010 011 100 101 110 111\n",
    "# 第一位为1：2^0  第二位为1：2^1 第三位为1：2^2,,,,第9位为1：2^8,\n",
    "101010 = 2^1+2^3+2^5 = 42\n",
    "# 八进制\n",
    "# 十六进制 01 02，，，08 09，0A 0B 0C 0D 0E 0F, 10,11,,,,\n",
    "# 因为二进制比较长，所以改成8进制，16进制\n",
    "# 编程语言：机器码（纸带打孔机）→汇编语言→C语言，为编译型语言，通过编译器转为机器码"
   ]
  }
 ],
 "metadata": {
  "kernelspec": {
   "display_name": "Python 3",
   "language": "python",
   "name": "python3"
  },
  "language_info": {
   "codemirror_mode": {
    "name": "ipython",
    "version": 3
   },
   "file_extension": ".py",
   "mimetype": "text/x-python",
   "name": "python",
   "nbconvert_exporter": "python",
   "pygments_lexer": "ipython3",
   "version": "3.7.7"
  }
 },
 "nbformat": 4,
 "nbformat_minor": 4
}
