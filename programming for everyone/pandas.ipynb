{
 "cells": [
  {
   "cell_type": "code",
   "execution_count": null,
   "metadata": {},
   "outputs": [],
   "source": [
    "# 核心 --一维数组：Series，二维数组：Dataframe\n",
    "# pandas：有序和无序的排列方式\n",
    "# pandas和excel之间互换\n",
    "# tab--函数提示；shift+tab--值提示\n"
   ]
  },
  {
   "cell_type": "code",
   "execution_count": 11,
   "metadata": {},
   "outputs": [
    {
     "data": {
      "text/plain": [
       "1    1100\n",
       "2     500\n",
       "3     400\n",
       "4    2000\n",
       "dtype: int64"
      ]
     },
     "execution_count": 11,
     "metadata": {},
     "output_type": "execute_result"
    }
   ],
   "source": [
    "# Series： 按着标签来记录数据&可以保存任何的数据类型&轴标签为索引\n",
    "# Series=llist+dict-即通过list or dictionary\n",
    "import pandas as pd\n",
    "# list 记录所有股票的持仓数量\n",
    "trade_volume =[1100, 500, 400, 2000]\n",
    "stock = [1,2,3,4]\n",
    "trade_volume_series=pd.Series(data=trade_volume, index=stock)\n",
    "trade_volume_series\n"
   ]
  },
  {
   "cell_type": "code",
   "execution_count": 42,
   "metadata": {},
   "outputs": [
    {
     "data": {
      "text/plain": [
       "Oour    1100\n",
       "平安       500\n",
       "万科       400\n",
       "dtype: int64"
      ]
     },
     "execution_count": 42,
     "metadata": {},
     "output_type": "execute_result"
    }
   ],
   "source": [
    "holding_position = {'Oour':1100,'平安':500,'万科':400,'通用':2000}\n",
    "holding_position_series = pd.Series(holding_position)\n",
    "holding_position_series\n",
    "# 根据位置提取index或者数值\n",
    "holding_position_series[0]\n",
    "holding_position_series.index[0]\n",
    "\n",
    "# 根据index提取数值\n",
    "holding_position_series['平安']\n",
    "holding_position_series[['平安','万科']]\n",
    "\n",
    "# 根据切片提取数据\n",
    "holding_position_series[0:2]\n",
    "# [0:2] 包括0,1\n",
    "holding_position_series['Oour':'万科']\n",
    "# 包括Oour， 平安， 万科\n",
    "\n"
   ]
  },
  {
   "cell_type": "code",
   "execution_count": 87,
   "metadata": {},
   "outputs": [
    {
     "data": {
      "text/plain": [
       "净利润      True\n",
       "利息       True\n",
       "成本       True\n",
       "固定资产    False\n",
       "dtype: bool"
      ]
     },
     "execution_count": 87,
     "metadata": {},
     "output_type": "execute_result"
    }
   ],
   "source": [
    "# 根据布尔值做切片\n",
    "income_series = pd.Series([100,1000,1000,None], index=['净利润','利息','成本','固定资产'])\n",
    "income_series\n",
    "# 布尔值剔除none\n",
    "income_series[income_series.notnull()]\n",
    "\n",
    "# 布尔值表示大于5000\n",
    "income_series[income_series>100]\n",
    "income_series[income_series<=500]\n",
    "income_series.notnull()"
   ]
  },
  {
   "cell_type": "code",
   "execution_count": 52,
   "metadata": {},
   "outputs": [
    {
     "data": {
      "text/plain": [
       "life     100.0\n",
       "fame       NaN\n",
       "happy    300.0\n",
       "dtype: float64"
      ]
     },
     "execution_count": 52,
     "metadata": {},
     "output_type": "execute_result"
    }
   ],
   "source": [
    "income_series=pd.Series([100,200,300,10000],index=['life','value','happy','wealth'])\n",
    "# 提取头部数据\n",
    "income_series.head()\n",
    "\n",
    "# t提取尾部函数\n",
    "income_series.tail()\n",
    "\n",
    "# 重新定义索引\n",
    "income_series_new=income_series.reindex(['life','fame','happy'])\n",
    "income_series_new"
   ]
  },
  {
   "cell_type": "code",
   "execution_count": 57,
   "metadata": {},
   "outputs": [
    {
     "data": {
      "text/plain": [
       "receiption    1000\n",
       "dtype: int64"
      ]
     },
     "execution_count": 57,
     "metadata": {},
     "output_type": "execute_result"
    }
   ],
   "source": [
    "income_series=pd.Series([200,300,1000], index=['fame','effort','receiption'])\n",
    "a = income_series.drop(['fame','effort'])\n",
    "a"
   ]
  },
  {
   "cell_type": "code",
   "execution_count": 76,
   "metadata": {},
   "outputs": [
    {
     "data": {
      "text/plain": [
       "公司A      NaN\n",
       "公司B    500.0\n",
       "Name: 总资产, dtype: float64"
      ]
     },
     "execution_count": 76,
     "metadata": {},
     "output_type": "execute_result"
    }
   ],
   "source": [
    "# dataframe\n",
    "A_balance_sheet = pd.Series([400,300,500],index=['管理费用','财务费用','营业费用'])\n",
    "B_balance_sheet = pd.Series([500,700,400], index=['总资产','总负债','所有者权益'])\n",
    "sheet={'公司A':A_balance_sheet, '公司B': B_balance_sheet}\n",
    "sheet_series = pd.DataFrame(sheet)\n",
    "sheet_series\n",
    "\n",
    "# 顺序提取数据\n",
    "sheet_series.iloc[0,1] # 行的数据是0， 列的数据是1, 行列的开始都是0\n",
    "sheet_series.iloc[0:1,:]\n",
    "\n",
    "# 按标签或者索引提取数据\n",
    "sheet_series.loc['总资产',:]"
   ]
  },
  {
   "cell_type": "code",
   "execution_count": 79,
   "metadata": {},
   "outputs": [
    {
     "data": {
      "text/html": [
       "<div>\n",
       "<style scoped>\n",
       "    .dataframe tbody tr th:only-of-type {\n",
       "        vertical-align: middle;\n",
       "    }\n",
       "\n",
       "    .dataframe tbody tr th {\n",
       "        vertical-align: top;\n",
       "    }\n",
       "\n",
       "    .dataframe thead th {\n",
       "        text-align: right;\n",
       "    }\n",
       "</style>\n",
       "<table border=\"1\" class=\"dataframe\">\n",
       "  <thead>\n",
       "    <tr style=\"text-align: right;\">\n",
       "      <th></th>\n",
       "      <th>总负债</th>\n",
       "      <th>总资产</th>\n",
       "      <th>所有者权益</th>\n",
       "      <th>管理费用</th>\n",
       "      <th>营业费用</th>\n",
       "      <th>财务费用</th>\n",
       "    </tr>\n",
       "  </thead>\n",
       "  <tbody>\n",
       "    <tr>\n",
       "      <th>公司A</th>\n",
       "      <td>NaN</td>\n",
       "      <td>NaN</td>\n",
       "      <td>NaN</td>\n",
       "      <td>400.0</td>\n",
       "      <td>500.0</td>\n",
       "      <td>300.0</td>\n",
       "    </tr>\n",
       "    <tr>\n",
       "      <th>公司B</th>\n",
       "      <td>700.0</td>\n",
       "      <td>500.0</td>\n",
       "      <td>400.0</td>\n",
       "      <td>NaN</td>\n",
       "      <td>NaN</td>\n",
       "      <td>NaN</td>\n",
       "    </tr>\n",
       "  </tbody>\n",
       "</table>\n",
       "</div>"
      ],
      "text/plain": [
       "       总负债    总资产  所有者权益   管理费用   营业费用   财务费用\n",
       "公司A    NaN    NaN    NaN  400.0  500.0  300.0\n",
       "公司B  700.0  500.0  400.0    NaN    NaN    NaN"
      ]
     },
     "execution_count": 79,
     "metadata": {},
     "output_type": "execute_result"
    }
   ],
   "source": [
    "# 行列之间的对换\n",
    "sheet_series1 = sheet_series.T\n",
    "sheet_series1"
   ]
  },
  {
   "cell_type": "code",
   "execution_count": 84,
   "metadata": {},
   "outputs": [
    {
     "data": {
      "text/html": [
       "<div>\n",
       "<style scoped>\n",
       "    .dataframe tbody tr th:only-of-type {\n",
       "        vertical-align: middle;\n",
       "    }\n",
       "\n",
       "    .dataframe tbody tr th {\n",
       "        vertical-align: top;\n",
       "    }\n",
       "\n",
       "    .dataframe thead th {\n",
       "        text-align: right;\n",
       "    }\n",
       "</style>\n",
       "<table border=\"1\" class=\"dataframe\">\n",
       "  <thead>\n",
       "    <tr style=\"text-align: right;\">\n",
       "      <th></th>\n",
       "      <th>总负债</th>\n",
       "      <th>总资产</th>\n",
       "      <th>所有者权益</th>\n",
       "      <th>管理费用</th>\n",
       "      <th>财务费用</th>\n",
       "      <th>公允价值变动</th>\n",
       "    </tr>\n",
       "  </thead>\n",
       "  <tbody>\n",
       "    <tr>\n",
       "      <th>公司B</th>\n",
       "      <td>700.0</td>\n",
       "      <td>500.0</td>\n",
       "      <td>400.0</td>\n",
       "      <td>NaN</td>\n",
       "      <td>NaN</td>\n",
       "      <td>20</td>\n",
       "    </tr>\n",
       "  </tbody>\n",
       "</table>\n",
       "</div>"
      ],
      "text/plain": [
       "       总负债    总资产  所有者权益  管理费用  财务费用  公允价值变动\n",
       "公司B  700.0  500.0  400.0   NaN   NaN      20"
      ]
     },
     "execution_count": 84,
     "metadata": {},
     "output_type": "execute_result"
    }
   ],
   "source": [
    "# 增加一行/一列\n",
    "a=[10,20]\n",
    "sheet_series1.loc[:,'公允价值变动'] = a\n",
    "sheet_series1\n",
    "b = [300,None, None, 400,500,700,800]\n",
    "\n",
    "# 修改数据\n",
    "sheet_series1.iloc[0,0] = 400\n",
    "sheet_series1\n",
    "\n",
    "# 删除数据\n",
    "sheet_series1.drop(index = ['公司A'], columns= ['营业费用'])\n",
    "# 删除整个公司A和营业费用"
   ]
  },
  {
   "cell_type": "code",
   "execution_count": 86,
   "metadata": {},
   "outputs": [
    {
     "data": {
      "text/html": [
       "<div>\n",
       "<style scoped>\n",
       "    .dataframe tbody tr th:only-of-type {\n",
       "        vertical-align: middle;\n",
       "    }\n",
       "\n",
       "    .dataframe tbody tr th {\n",
       "        vertical-align: top;\n",
       "    }\n",
       "\n",
       "    .dataframe thead th {\n",
       "        text-align: right;\n",
       "    }\n",
       "</style>\n",
       "<table border=\"1\" class=\"dataframe\">\n",
       "  <thead>\n",
       "    <tr style=\"text-align: right;\">\n",
       "      <th></th>\n",
       "      <th>总负债</th>\n",
       "      <th>总资产</th>\n",
       "      <th>所有者权益</th>\n",
       "      <th>管理费用</th>\n",
       "      <th>营业费用</th>\n",
       "      <th>财务费用</th>\n",
       "      <th>公允价值变动</th>\n",
       "    </tr>\n",
       "  </thead>\n",
       "  <tbody>\n",
       "    <tr>\n",
       "      <th>公司B</th>\n",
       "      <td>700.0</td>\n",
       "      <td>500.0</td>\n",
       "      <td>400.0</td>\n",
       "      <td>NaN</td>\n",
       "      <td>NaN</td>\n",
       "      <td>NaN</td>\n",
       "      <td>20</td>\n",
       "    </tr>\n",
       "    <tr>\n",
       "      <th>公司A</th>\n",
       "      <td>400.0</td>\n",
       "      <td>NaN</td>\n",
       "      <td>NaN</td>\n",
       "      <td>400.0</td>\n",
       "      <td>500.0</td>\n",
       "      <td>300.0</td>\n",
       "      <td>10</td>\n",
       "    </tr>\n",
       "  </tbody>\n",
       "</table>\n",
       "</div>"
      ],
      "text/plain": [
       "       总负债    总资产  所有者权益   管理费用   营业费用   财务费用  公允价值变动\n",
       "公司B  700.0  500.0  400.0    NaN    NaN    NaN      20\n",
       "公司A  400.0    NaN    NaN  400.0  500.0  300.0      10"
      ]
     },
     "execution_count": 86,
     "metadata": {},
     "output_type": "execute_result"
    }
   ],
   "source": [
    "sheet_series1.sort_values(by = ['总负债'],ascending = False)"
   ]
  },
  {
   "cell_type": "code",
   "execution_count": null,
   "metadata": {},
   "outputs": [],
   "source": []
  }
 ],
 "metadata": {
  "kernelspec": {
   "display_name": "Python 3",
   "language": "python",
   "name": "python3"
  },
  "language_info": {
   "codemirror_mode": {
    "name": "ipython",
    "version": 3
   },
   "file_extension": ".py",
   "mimetype": "text/x-python",
   "name": "python",
   "nbconvert_exporter": "python",
   "pygments_lexer": "ipython3",
   "version": "3.7.7"
  }
 },
 "nbformat": 4,
 "nbformat_minor": 4
}
